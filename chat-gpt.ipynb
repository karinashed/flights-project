{
 "cells": [
  {
   "cell_type": "markdown",
   "id": "5d6162c6",
   "metadata": {},
   "source": [
    "# Use ChatGPT to determine the plane type"
   ]
  },
  {
   "cell_type": "code",
   "execution_count": 1,
   "id": "3e091826",
   "metadata": {},
   "outputs": [],
   "source": [
    "import os\n",
    "import requests\n",
    "import pandas as pd\n",
    "import re"
   ]
  },
  {
   "cell_type": "code",
   "execution_count": 2,
   "id": "71d45191",
   "metadata": {},
   "outputs": [],
   "source": [
    "df = pd.read_csv(\"/Users/karinashedrofsky/LEDE_2023/flights-project/csvs/all_plane_info.csv\")"
   ]
  },
  {
   "cell_type": "markdown",
   "id": "4c042525",
   "metadata": {},
   "source": [
    "### Make list of all unique plane make/models from flight data\n"
   ]
  },
  {
   "cell_type": "code",
   "execution_count": 7,
   "id": "95598d83",
   "metadata": {},
   "outputs": [],
   "source": [
    "unique_planes = []\n",
    "\n",
    "unique_planes.extend(df['plane'].unique().tolist())"
   ]
  },
  {
   "cell_type": "code",
   "execution_count": 8,
   "id": "6fde2822",
   "metadata": {},
   "outputs": [
    {
     "data": {
      "text/plain": [
       "224"
      ]
     },
     "execution_count": 8,
     "metadata": {},
     "output_type": "execute_result"
    }
   ],
   "source": [
    "len(unique_planes)"
   ]
  },
  {
   "cell_type": "markdown",
   "id": "e421b935",
   "metadata": {},
   "source": [
    "### Ask ChatGPT\n",
    "\n",
    "Take each plane make/model from the data and ask ChatGPT whether it's typically used as a private, commercial, military or helicopter. "
   ]
  },
  {
   "cell_type": "code",
   "execution_count": 47,
   "id": "8f9ee587",
   "metadata": {},
   "outputs": [],
   "source": [
    "from dotenv import load_dotenv \n",
    "load_dotenv()\n",
    "\n",
    "API_KEY = os.getenv(\"PROJECT_API_KEY\")"
   ]
  },
  {
   "cell_type": "code",
   "execution_count": 48,
   "id": "f75f3f9f",
   "metadata": {},
   "outputs": [],
   "source": [
    "from langchain.chat_models import ChatOpenAI\n",
    "llm = ChatOpenAI(openai_api_key=API_KEY, model_name=\"gpt-3.5-turbo\")"
   ]
  },
  {
   "cell_type": "code",
   "execution_count": 51,
   "id": "b0d94128",
   "metadata": {},
   "outputs": [],
   "source": [
    "template = \"\"\"\n",
    "Categorize the following airplane model as typically being used as either a\n",
    "private plane, commercial plane, military plane or helicopter. \n",
    "Respond with only the plane type: PRIVATE, COMMERCIAL, MILITARY, HELICOPTER. \n",
    "Then print the maximum number of passengers the plane model can hold, \n",
    "separated from the plane type with a comma. Don't print anything else after the number of passengers.\n",
    "If you're unable to determine the type of plane, simply print UNKNOWN\n",
    "\n",
    "Airplane model: Boeing 737\n",
    "Response: COMMERCIAL, 132\n",
    "\n",
    "Airplane model: {plane_model}\n",
    "Response:\"\"\"\n",
    "\n",
    "results = []  \n",
    "\n",
    "for plane in unique_planes:\n",
    "    prompt = template.format(plane_model=plane)\n",
    "    response = llm.predict(prompt)\n",
    "    results.append([plane, response])\n",
    "\n",
    "# Create a DataFrame from the 'results' list\n",
    "plane_type_df = pd.DataFrame(results, columns=['Plane', 'Info'])"
   ]
  },
  {
   "cell_type": "markdown",
   "id": "dd704278",
   "metadata": {},
   "source": [
    "#### Save the ChatGPT results to a csv \n",
    "\n",
    "This is to avoid having to run it through again"
   ]
  },
  {
   "cell_type": "code",
   "execution_count": 54,
   "id": "2a6df003",
   "metadata": {},
   "outputs": [],
   "source": [
    "plane_type_df.to_csv(\"/Users/karinashedrofsky/LEDE_2023/flights-project/csvs/gpt_results.csv\", index=False)"
   ]
  },
  {
   "cell_type": "code",
   "execution_count": 10,
   "id": "7ddd2a76",
   "metadata": {},
   "outputs": [
    {
     "data": {
      "text/plain": [
       "224"
      ]
     },
     "execution_count": 10,
     "metadata": {},
     "output_type": "execute_result"
    }
   ],
   "source": [
    "len(plane_type_df)"
   ]
  },
  {
   "cell_type": "markdown",
   "id": "7c2b2308",
   "metadata": {},
   "source": [
    "### Clean up the resulting DataFrame"
   ]
  },
  {
   "cell_type": "code",
   "execution_count": 11,
   "id": "78951fb0",
   "metadata": {},
   "outputs": [],
   "source": [
    "#Split up the ChatGPT answers into two columns\n",
    "plane_type_df[['type', 'max_passengers']] = plane_type_df['Info'].str.split(',', expand=True)\n",
    "\n",
    "\n",
    "plane_type_df.drop(columns=['Info'], inplace=True)"
   ]
  },
  {
   "cell_type": "code",
   "execution_count": 13,
   "id": "92ce52f5",
   "metadata": {},
   "outputs": [
    {
     "data": {
      "text/html": [
       "<div>\n",
       "<style scoped>\n",
       "    .dataframe tbody tr th:only-of-type {\n",
       "        vertical-align: middle;\n",
       "    }\n",
       "\n",
       "    .dataframe tbody tr th {\n",
       "        vertical-align: top;\n",
       "    }\n",
       "\n",
       "    .dataframe thead th {\n",
       "        text-align: right;\n",
       "    }\n",
       "</style>\n",
       "<table border=\"1\" class=\"dataframe\">\n",
       "  <thead>\n",
       "    <tr style=\"text-align: right;\">\n",
       "      <th></th>\n",
       "      <th>Plane</th>\n",
       "      <th>type</th>\n",
       "      <th>max_passengers</th>\n",
       "    </tr>\n",
       "  </thead>\n",
       "  <tbody>\n",
       "    <tr>\n",
       "      <th>0</th>\n",
       "      <td>Boeing 737-8LJ</td>\n",
       "      <td>COMMERCIAL</td>\n",
       "      <td>132</td>\n",
       "    </tr>\n",
       "    <tr>\n",
       "      <th>1</th>\n",
       "      <td>Boeing 737-958ER</td>\n",
       "      <td>COMMERCIAL</td>\n",
       "      <td>189</td>\n",
       "    </tr>\n",
       "    <tr>\n",
       "      <th>2</th>\n",
       "      <td>Airbus A321-251NX</td>\n",
       "      <td>COMMERCIAL</td>\n",
       "      <td>240</td>\n",
       "    </tr>\n",
       "    <tr>\n",
       "      <th>3</th>\n",
       "      <td>Boeing 767-3Y0ER</td>\n",
       "      <td>COMMERCIAL</td>\n",
       "      <td>375</td>\n",
       "    </tr>\n",
       "    <tr>\n",
       "      <th>4</th>\n",
       "      <td>Airbus A320-214</td>\n",
       "      <td>COMMERCIAL</td>\n",
       "      <td>150</td>\n",
       "    </tr>\n",
       "    <tr>\n",
       "      <th>...</th>\n",
       "      <td>...</td>\n",
       "      <td>...</td>\n",
       "      <td>...</td>\n",
       "    </tr>\n",
       "    <tr>\n",
       "      <th>219</th>\n",
       "      <td>Boeing 737-8S3</td>\n",
       "      <td>COMMERCIAL</td>\n",
       "      <td>189</td>\n",
       "    </tr>\n",
       "    <tr>\n",
       "      <th>220</th>\n",
       "      <td>Boeing 757-28A</td>\n",
       "      <td>COMMERCIAL</td>\n",
       "      <td>239</td>\n",
       "    </tr>\n",
       "    <tr>\n",
       "      <th>221</th>\n",
       "      <td>Gulfstream Aerospace G-IV-SP</td>\n",
       "      <td>PRIVATE</td>\n",
       "      <td>19</td>\n",
       "    </tr>\n",
       "    <tr>\n",
       "      <th>222</th>\n",
       "      <td>Airbus A330-223</td>\n",
       "      <td>COMMERCIAL</td>\n",
       "      <td>440</td>\n",
       "    </tr>\n",
       "    <tr>\n",
       "      <th>223</th>\n",
       "      <td>Tupolev Tu-214VPU</td>\n",
       "      <td>MILITARY</td>\n",
       "      <td>UNKNOWN</td>\n",
       "    </tr>\n",
       "  </tbody>\n",
       "</table>\n",
       "<p>224 rows × 3 columns</p>\n",
       "</div>"
      ],
      "text/plain": [
       "                            Plane        type max_passengers\n",
       "0                  Boeing 737-8LJ  COMMERCIAL            132\n",
       "1                Boeing 737-958ER  COMMERCIAL            189\n",
       "2               Airbus A321-251NX  COMMERCIAL            240\n",
       "3                Boeing 767-3Y0ER  COMMERCIAL            375\n",
       "4                 Airbus A320-214  COMMERCIAL            150\n",
       "..                            ...         ...            ...\n",
       "219                Boeing 737-8S3  COMMERCIAL            189\n",
       "220                Boeing 757-28A  COMMERCIAL            239\n",
       "221  Gulfstream Aerospace G-IV-SP     PRIVATE             19\n",
       "222               Airbus A330-223  COMMERCIAL            440\n",
       "223             Tupolev Tu-214VPU    MILITARY        UNKNOWN\n",
       "\n",
       "[224 rows x 3 columns]"
      ]
     },
     "execution_count": 13,
     "metadata": {},
     "output_type": "execute_result"
    }
   ],
   "source": [
    "plane_type_df"
   ]
  },
  {
   "cell_type": "code",
   "execution_count": 15,
   "id": "3071cdb8",
   "metadata": {},
   "outputs": [],
   "source": [
    "#Save it as csv\n",
    "plane_type_df.to_csv(\"/Users/karinashedrofsky/LEDE_2023/flights-project/csvs/plane_type.csv\", index=False)"
   ]
  },
  {
   "cell_type": "markdown",
   "id": "267f07a5",
   "metadata": {},
   "source": [
    "### Break down how many of each plane category are in the data"
   ]
  },
  {
   "cell_type": "code",
   "execution_count": 16,
   "id": "18896e39",
   "metadata": {},
   "outputs": [
    {
     "data": {
      "text/html": [
       "<div>\n",
       "<style scoped>\n",
       "    .dataframe tbody tr th:only-of-type {\n",
       "        vertical-align: middle;\n",
       "    }\n",
       "\n",
       "    .dataframe tbody tr th {\n",
       "        vertical-align: top;\n",
       "    }\n",
       "\n",
       "    .dataframe thead th {\n",
       "        text-align: right;\n",
       "    }\n",
       "</style>\n",
       "<table border=\"1\" class=\"dataframe\">\n",
       "  <thead>\n",
       "    <tr style=\"text-align: right;\">\n",
       "      <th></th>\n",
       "      <th>type</th>\n",
       "      <th>count</th>\n",
       "    </tr>\n",
       "  </thead>\n",
       "  <tbody>\n",
       "    <tr>\n",
       "      <th>0</th>\n",
       "      <td>COMMERCIAL</td>\n",
       "      <td>146</td>\n",
       "    </tr>\n",
       "    <tr>\n",
       "      <th>1</th>\n",
       "      <td>HELICOPTER</td>\n",
       "      <td>8</td>\n",
       "    </tr>\n",
       "    <tr>\n",
       "      <th>2</th>\n",
       "      <td>MILITARY</td>\n",
       "      <td>13</td>\n",
       "    </tr>\n",
       "    <tr>\n",
       "      <th>3</th>\n",
       "      <td>PRIVATE</td>\n",
       "      <td>52</td>\n",
       "    </tr>\n",
       "    <tr>\n",
       "      <th>4</th>\n",
       "      <td>UNKNOWN</td>\n",
       "      <td>5</td>\n",
       "    </tr>\n",
       "  </tbody>\n",
       "</table>\n",
       "</div>"
      ],
      "text/plain": [
       "         type  count\n",
       "0  COMMERCIAL    146\n",
       "1  HELICOPTER      8\n",
       "2    MILITARY     13\n",
       "3     PRIVATE     52\n",
       "4     UNKNOWN      5"
      ]
     },
     "execution_count": 16,
     "metadata": {},
     "output_type": "execute_result"
    }
   ],
   "source": [
    "plane_type_counts = plane_type_df.groupby('type').size().reset_index(name='count')\n",
    "plane_type_counts"
   ]
  },
  {
   "cell_type": "markdown",
   "id": "4f3afbed",
   "metadata": {},
   "source": [
    "#### Visualize it as a bar chart"
   ]
  },
  {
   "cell_type": "code",
   "execution_count": 60,
   "id": "4a7ce95e",
   "metadata": {
    "scrolled": true
   },
   "outputs": [
    {
     "data": {
      "image/png": "[encoded data removed]",
      "text/plain": [
       "<Figure size 1000x600 with 1 Axes>"
      ]
     },
     "metadata": {},
     "output_type": "display_data"
    }
   ],
   "source": [
    "plt.figure(figsize=(10, 6))  # Set the size of the plot\n",
    "plt.bar(plane_type_counts['type'], plane_type_counts['count'], color='skyblue')\n",
    "plt.xlabel('Aircraft Type')\n",
    "plt.ylabel('Count')\n",
    "plt.title('Aircraft Type Count')\n",
    "plt.xticks(rotation=45)\n",
    "plt.tight_layout()"
   ]
  },
  {
   "cell_type": "code",
   "execution_count": null,
   "id": "0b9f6eef",
   "metadata": {},
   "outputs": [],
   "source": []
  }
 ],
 "metadata": {
  "kernelspec": {
   "display_name": "Python 3 (ipykernel)",
   "language": "python",
   "name": "python3"
  },
  "language_info": {
   "codemirror_mode": {
    "name": "ipython",
    "version": 3
   },
   "file_extension": ".py",
   "mimetype": "text/x-python",
   "name": "python",
   "nbconvert_exporter": "python",
   "pygments_lexer": "ipython3",
   "version": "3.10.11"
  }
 },
 "nbformat": 4,
 "nbformat_minor": 5
}
