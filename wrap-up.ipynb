{
 "cells": [
  {
   "cell_type": "code",
   "execution_count": 1,
   "id": "0be613ec",
   "metadata": {},
   "outputs": [],
   "source": [
    "import os\n",
    "import requests\n",
    "from bs4 import BeautifulSoup\n",
    "import pandas as pd"
   ]
  },
  {
   "cell_type": "markdown",
   "id": "d8794d44",
   "metadata": {},
   "source": [
    "# Pull it all together  \n",
    "Now we want to combine the DataFrames so we can analyze the data to find interesting leads"
   ]
  },
  {
   "cell_type": "markdown",
   "id": "9745d940",
   "metadata": {},
   "source": [
    "## Look at plane info without the flight details  \n",
    "This way we can answer questions like where all the private and military planes are registered, for instance"
   ]
  },
  {
   "cell_type": "code",
   "execution_count": 4,
   "id": "2d5315fc",
   "metadata": {},
   "outputs": [],
   "source": [
    "reg_country_df = pd.read_csv(\"/Users/karinashedrofsky/LEDE_2023/flights-project/csvs/reg_country.csv\")\n",
    "plane_type_df = pd.read_csv(\"/Users/karinashedrofsky/LEDE_2023/flights-project/csvs/plane_type.csv\")"
   ]
  },
  {
   "cell_type": "code",
   "execution_count": 5,
   "id": "739ccfa8",
   "metadata": {},
   "outputs": [],
   "source": [
    "country_type_df = pd.merge(reg_country_df, plane_type_df, left_on='plane', right_on='Plane', how='inner')\n",
    "country_type_df.drop('Plane', axis=1, inplace=True)\n",
    "country_type_df.drop('tail_prefix', axis=1, inplace=True)"
   ]
  },
  {
   "cell_type": "code",
   "execution_count": 6,
   "id": "0fe63e85",
   "metadata": {},
   "outputs": [],
   "source": [
    "country_type_df.rename(columns={'plane': 'plane_model', 'Country or region': 'reg_country'}, inplace=True)"
   ]
  },
  {
   "cell_type": "markdown",
   "id": "8102ef13",
   "metadata": {},
   "source": [
    "## Use python to answer some of those questions:"
   ]
  },
  {
   "cell_type": "markdown",
   "id": "575db9b0",
   "metadata": {},
   "source": [
    "#### Where are the private planes registered?"
   ]
  },
  {
   "cell_type": "code",
   "execution_count": 10,
   "id": "600f4c26",
   "metadata": {},
   "outputs": [
    {
     "data": {
      "text/plain": [
       "reg_country\n",
       "Algeria            1\n",
       "Armenia            1\n",
       "Azerbaijan         1\n",
       "Belarus            1\n",
       "China              1\n",
       "Czech Republic     1\n",
       "Gambia             1\n",
       "Germany            1\n",
       "Kazakhstan         6\n",
       "Russia            83\n",
       "Turkey             1\n",
       "dtype: int64"
      ]
     },
     "execution_count": 10,
     "metadata": {},
     "output_type": "execute_result"
    }
   ],
   "source": [
    "private_planes_df = country_type_df[country_type_df['type'] == 'PRIVATE']\n",
    "private_planes_df.groupby('reg_country').size()"
   ]
  },
  {
   "cell_type": "markdown",
   "id": "43e03d0b",
   "metadata": {},
   "source": [
    "The code below allows you to get more information on the private planes registered in the specified country"
   ]
  },
  {
   "cell_type": "code",
   "execution_count": 11,
   "id": "daa5fe93",
   "metadata": {
    "scrolled": true
   },
   "outputs": [
    {
     "data": {
      "text/html": [
       "<div>\n",
       "<style scoped>\n",
       "    .dataframe tbody tr th:only-of-type {\n",
       "        vertical-align: middle;\n",
       "    }\n",
       "\n",
       "    .dataframe tbody tr th {\n",
       "        vertical-align: top;\n",
       "    }\n",
       "\n",
       "    .dataframe thead th {\n",
       "        text-align: right;\n",
       "    }\n",
       "</style>\n",
       "<table border=\"1\" class=\"dataframe\">\n",
       "  <thead>\n",
       "    <tr style=\"text-align: right;\">\n",
       "      <th></th>\n",
       "      <th>icao</th>\n",
       "      <th>tail</th>\n",
       "      <th>plane_model</th>\n",
       "      <th>reg_country</th>\n",
       "      <th>type</th>\n",
       "      <th>max_passengers</th>\n",
       "    </tr>\n",
       "  </thead>\n",
       "  <tbody>\n",
       "    <tr>\n",
       "      <th>991</th>\n",
       "      <td>600009</td>\n",
       "      <td>EK-222</td>\n",
       "      <td>SOCATA TBM 940</td>\n",
       "      <td>Armenia</td>\n",
       "      <td>PRIVATE</td>\n",
       "      <td>6</td>\n",
       "    </tr>\n",
       "  </tbody>\n",
       "</table>\n",
       "</div>"
      ],
      "text/plain": [
       "       icao    tail     plane_model reg_country     type max_passengers\n",
       "991  600009  EK-222  SOCATA TBM 940     Armenia  PRIVATE              6"
      ]
     },
     "execution_count": 11,
     "metadata": {},
     "output_type": "execute_result"
    }
   ],
   "source": [
    "private_planes_df[private_planes_df['reg_country'] == 'Armenia']"
   ]
  },
  {
   "cell_type": "markdown",
   "id": "d7bb515f",
   "metadata": {},
   "source": [
    "####  What about the military planes?"
   ]
  },
  {
   "cell_type": "code",
   "execution_count": 12,
   "id": "34cacdbc",
   "metadata": {},
   "outputs": [
    {
     "data": {
      "text/plain": [
       "reg_country\n",
       "Azerbaijan       1\n",
       "Russia          19\n",
       "Syria            1\n",
       "Turkmenistan     1\n",
       "dtype: int64"
      ]
     },
     "execution_count": 12,
     "metadata": {},
     "output_type": "execute_result"
    }
   ],
   "source": [
    "military_planes_df = country_type_df[country_type_df['type'] == 'MILITARY']\n",
    "military_planes_df.groupby('reg_country').size()"
   ]
  },
  {
   "cell_type": "markdown",
   "id": "64494d4e",
   "metadata": {},
   "source": [
    "The same code allows you to get more information on the military planes registered in the specified country"
   ]
  },
  {
   "cell_type": "code",
   "execution_count": 13,
   "id": "d38399b3",
   "metadata": {
    "scrolled": true
   },
   "outputs": [
    {
     "data": {
      "text/html": [
       "<div>\n",
       "<style scoped>\n",
       "    .dataframe tbody tr th:only-of-type {\n",
       "        vertical-align: middle;\n",
       "    }\n",
       "\n",
       "    .dataframe tbody tr th {\n",
       "        vertical-align: top;\n",
       "    }\n",
       "\n",
       "    .dataframe thead th {\n",
       "        text-align: right;\n",
       "    }\n",
       "</style>\n",
       "<table border=\"1\" class=\"dataframe\">\n",
       "  <thead>\n",
       "    <tr style=\"text-align: right;\">\n",
       "      <th></th>\n",
       "      <th>icao</th>\n",
       "      <th>tail</th>\n",
       "      <th>plane_model</th>\n",
       "      <th>reg_country</th>\n",
       "      <th>type</th>\n",
       "      <th>max_passengers</th>\n",
       "    </tr>\n",
       "  </thead>\n",
       "  <tbody>\n",
       "    <tr>\n",
       "      <th>1037</th>\n",
       "      <td>778681</td>\n",
       "      <td>YK-ATA</td>\n",
       "      <td>Ilyushin Il-76T</td>\n",
       "      <td>Syria</td>\n",
       "      <td>MILITARY</td>\n",
       "      <td>UNKNOWN</td>\n",
       "    </tr>\n",
       "  </tbody>\n",
       "</table>\n",
       "</div>"
      ],
      "text/plain": [
       "        icao    tail      plane_model reg_country      type max_passengers\n",
       "1037  778681  YK-ATA  Ilyushin Il-76T       Syria  MILITARY        UNKNOWN"
      ]
     },
     "execution_count": 13,
     "metadata": {},
     "output_type": "execute_result"
    }
   ],
   "source": [
    "military_planes_df[military_planes_df['reg_country'] == 'Syria']"
   ]
  },
  {
   "cell_type": "markdown",
   "id": "5d5f23f8",
   "metadata": {},
   "source": [
    "A quick Google search shows this plane may be interesting"
   ]
  },
  {
   "cell_type": "markdown",
   "id": "78d561c9",
   "metadata": {},
   "source": [
    "![https://www.linkedin.com/pulse/interesting-syrian-air-force-flights-rick-francona/](images/yk-ata.png)"
   ]
  },
  {
   "cell_type": "markdown",
   "id": "ecd16736",
   "metadata": {},
   "source": [
    "#### Export the DataFrame as a DataTables table for easy filtering and querying"
   ]
  },
  {
   "cell_type": "code",
   "execution_count": 121,
   "id": "b016a8a5",
   "metadata": {},
   "outputs": [],
   "source": [
    "country_type_table = country_type_df.to_html(index=False)"
   ]
  },
  {
   "cell_type": "code",
   "execution_count": 122,
   "id": "053cffa8",
   "metadata": {},
   "outputs": [],
   "source": [
    "with open('country_type_table.html', 'w') as f:\n",
    "    f.write(country_type_table)"
   ]
  },
  {
   "cell_type": "code",
   "execution_count": 17,
   "id": "baa5a3d5",
   "metadata": {},
   "outputs": [],
   "source": [
    "# but always save it as a csv, too\n",
    "\n",
    "country_type_df.to_csv(\"/Users/karinashedrofsky/LEDE_2023/flights-project/csvs/country_type.csv\", index=False)"
   ]
  },
  {
   "cell_type": "markdown",
   "id": "29a7e942",
   "metadata": {},
   "source": [
    "## Create the ultimate DataFrame that combines all flight data with the enriched plane information  \n",
    "\n",
    "Now we can ask the data questions like where all <b>private</b> planes that took off from Moscow have flown, for instance"
   ]
  },
  {
   "cell_type": "code",
   "execution_count": 14,
   "id": "af34bd63",
   "metadata": {},
   "outputs": [],
   "source": [
    "original_flight_df = pd.read_csv(\"/Users/karinashedrofsky/LEDE_2023/flights-project/csvs/icarus_flights_cleaned.csv\")"
   ]
  },
  {
   "cell_type": "code",
   "execution_count": 18,
   "id": "7792bc03",
   "metadata": {},
   "outputs": [],
   "source": [
    "#merge the original flight df with the df above that indicates each planes registration country and category\n",
    "final_flights_df = pd.merge(original_flight_df, country_type_df, on='icao', how='left')"
   ]
  },
  {
   "cell_type": "code",
   "execution_count": 19,
   "id": "e0b3cf09",
   "metadata": {},
   "outputs": [],
   "source": [
    "#clean it up\n",
    "final_flights_df.drop(columns=['aircraft_model', 'aircraft_model_code', 'area_country'], inplace=True)"
   ]
  },
  {
   "cell_type": "code",
   "execution_count": 20,
   "id": "ad9fa882",
   "metadata": {},
   "outputs": [],
   "source": [
    "final_flights_df.rename(columns={'Country or region': 'reg_country', 'type': 'plane_category'}, inplace=True)"
   ]
  },
  {
   "cell_type": "code",
   "execution_count": 21,
   "id": "5fe35abf",
   "metadata": {},
   "outputs": [],
   "source": [
    "final_flights_df.rename(columns={'plane': 'plane_model'}, inplace=True)"
   ]
  },
  {
   "cell_type": "code",
   "execution_count": 22,
   "id": "a67c341c",
   "metadata": {},
   "outputs": [],
   "source": [
    "final_flights_df['max_passengers'] = final_flights_df['max_passengers'].str.upper()"
   ]
  },
  {
   "cell_type": "code",
   "execution_count": 23,
   "id": "d1613315",
   "metadata": {},
   "outputs": [
    {
     "name": "stdout",
     "output_type": "stream",
     "text": [
      "<class 'pandas.core.frame.DataFrame'>\n",
      "RangeIndex: 9026 entries, 0 to 9025\n",
      "Data columns (total 13 columns):\n",
      " #   Column               Non-Null Count  Dtype \n",
      "---  ------               --------------  ----- \n",
      " 0   icao                 9026 non-null   object\n",
      " 1   call_sign            8566 non-null   object\n",
      " 2   start_time           9026 non-null   object\n",
      " 3   end_time             9026 non-null   object\n",
      " 4   origin_area          9026 non-null   object\n",
      " 5   origin_country       9026 non-null   object\n",
      " 6   destination_area     8433 non-null   object\n",
      " 7   destination_country  8429 non-null   object\n",
      " 8   tail                 8876 non-null   object\n",
      " 9   plane_model          8882 non-null   object\n",
      " 10  reg_country          8872 non-null   object\n",
      " 11  plane_category       8882 non-null   object\n",
      " 12  max_passengers       8861 non-null   object\n",
      "dtypes: object(13)\n",
      "memory usage: 916.8+ KB\n"
     ]
    }
   ],
   "source": [
    "final_flights_df.info()"
   ]
  },
  {
   "cell_type": "markdown",
   "id": "9e0ce565",
   "metadata": {},
   "source": [
    "#### Make DataTables table for easy filtering and querying"
   ]
  },
  {
   "cell_type": "code",
   "execution_count": 123,
   "id": "16851994",
   "metadata": {},
   "outputs": [],
   "source": [
    "full_flight_table = final_flights_df.to_html(index=False)"
   ]
  },
  {
   "cell_type": "code",
   "execution_count": 124,
   "id": "a7bb653a",
   "metadata": {},
   "outputs": [],
   "source": [
    "with open('full_flight_table.html', 'w') as f:\n",
    "    f.write(full_flight_table)"
   ]
  },
  {
   "cell_type": "code",
   "execution_count": 24,
   "id": "78ac043d",
   "metadata": {},
   "outputs": [],
   "source": [
    "# and, again, save it as a csv\n",
    "\n",
    "final_flights_df.to_csv(\"/Users/karinashedrofsky/LEDE_2023/flights-project/csvs/full_flight_data.csv\", index=False)"
   ]
  },
  {
   "cell_type": "code",
   "execution_count": null,
   "id": "4848d8fa",
   "metadata": {},
   "outputs": [],
   "source": []
  }
 ],
 "metadata": {
  "kernelspec": {
   "display_name": "Python 3 (ipykernel)",
   "language": "python",
   "name": "python3"
  },
  "language_info": {
   "codemirror_mode": {
    "name": "ipython",
    "version": 3
   },
   "file_extension": ".py",
   "mimetype": "text/x-python",
   "name": "python",
   "nbconvert_exporter": "python",
   "pygments_lexer": "ipython3",
   "version": "3.10.11"
  }
 },
 "nbformat": 4,
 "nbformat_minor": 5
}
