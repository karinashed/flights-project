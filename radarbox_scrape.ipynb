{
 "cells": [
  {
   "cell_type": "markdown",
   "id": "f838f9e0",
   "metadata": {},
   "source": [
    "# Scrape Radarbox for more plane details"
   ]
  },
  {
   "cell_type": "code",
   "execution_count": 20,
   "id": "a4595ffb",
   "metadata": {},
   "outputs": [],
   "source": [
    "import os\n",
    "import requests\n",
    "from bs4 import BeautifulSoup\n",
    "import pandas as pd\n",
    "import re\n",
    "import time"
   ]
  },
  {
   "cell_type": "code",
   "execution_count": 21,
   "id": "8a93ab43",
   "metadata": {},
   "outputs": [],
   "source": [
    "df = pd.read_csv(\"/Users/karinashedrofsky/LEDE_2023/flights-project/csvs/icarus_flights_cleaned.csv\")"
   ]
  },
  {
   "cell_type": "markdown",
   "id": "cca6613e",
   "metadata": {},
   "source": [
    "The first attempt at scraping from Radarbox resulted in a number of blank pages, meaning Radarbox doesn't have webpages or data on some of the ICAOs. I found that, in some cases, it's because some ICAOs are missing a '0' at the front. To maximize the number of pages pulled from Radarbox, I put a '0' in front of every ICAO with fewer than 6 characters. "
   ]
  },
  {
   "cell_type": "markdown",
   "id": "855323a7",
   "metadata": {},
   "source": [
    "#### Add a 0 to the front of every icao < 6 characters"
   ]
  },
  {
   "cell_type": "code",
   "execution_count": 11,
   "id": "df5f6356",
   "metadata": {},
   "outputs": [],
   "source": [
    "df.loc[df['icao'].str.len() < 6, 'icao'] = '0' + df['icao']"
   ]
  },
  {
   "cell_type": "markdown",
   "id": "350110d5",
   "metadata": {},
   "source": [
    "### Pull all unique ICAOs from the DataFrame\n",
    "These will be used to scrape Radarbox profiles for the planes' tail numbers and make/model  \n",
    "Radarbox urls are formatted ``https://www.radarbox.com/data/mode-s/{ICAO}``"
   ]
  },
  {
   "cell_type": "code",
   "execution_count": 12,
   "id": "fa9e2ac3",
   "metadata": {},
   "outputs": [
    {
     "data": {
      "text/plain": [
       "1063"
      ]
     },
     "execution_count": 12,
     "metadata": {},
     "output_type": "execute_result"
    }
   ],
   "source": [
    "unique_icaos = df['icao'].unique().tolist()\n",
    "len(unique_icaos)"
   ]
  },
  {
   "cell_type": "markdown",
   "id": "37b886af",
   "metadata": {},
   "source": [
    "### Save the html for each available RadarBox page"
   ]
  },
  {
   "cell_type": "code",
   "execution_count": 4,
   "id": "8393a31f",
   "metadata": {},
   "outputs": [],
   "source": [
    "directory = \"/Users/karinashedrofsky/LEDE_2023/flights-project/radarbox-htmls\"\n",
    "base_url = \"https://www.radarbox.com/data/mode-s/\""
   ]
  },
  {
   "cell_type": "code",
   "execution_count": 26,
   "id": "094d453a",
   "metadata": {},
   "outputs": [],
   "source": [
    "for icao in unique_icaos:\n",
    "    try:\n",
    "        # Construct the URL for each ICAO code by appending it to the base URL\n",
    "        url = base_url + icao\n",
    "\n",
    "        response = requests.get(\n",
    "            url,\n",
    "            headers={\"User-Agent\": \"Mozilla/5.0 (Macintosh; Intel Mac OS X 10_15_7) AppleWebKit/537.36 (KHTML, like Gecko) Chrome/104.0.5112.79 Safari/537.36\"}\n",
    "        )\n",
    "\n",
    "        # Save HTML content to a separate file in the 'radarbox-htmls' directory\n",
    "        file_name = icao + \".html\"\n",
    "        file_path = os.path.join(directory, file_name)\n",
    "        \n",
    "        if os.path.exists(file_path): #skip scraping webpages for icaos that have already been scraped\n",
    "            continue\n",
    "\n",
    "        with open(file_path, 'w', encoding='utf-8') as file:\n",
    "            file.write(response.text)\n",
    "\n",
    "        print(\"HTML content saved to:\", file_path)\n",
    "\n",
    "        # Add a pause of 2 seconds between each iteration\n",
    "        time.sleep(2)\n",
    "\n",
    "    except Exception as e:\n",
    "        print(f\"Error occurred for ICAO code: {icao}\")\n",
    "        print(f\"Error message: {str(e)}\")"
   ]
  },
  {
   "cell_type": "markdown",
   "id": "6dd7c986",
   "metadata": {},
   "source": [
    "### Check for all htmls that didn't scrape properly and delete them from the directory \n",
    "This is based on file size. All htmls without detailed plane information on RadarBox are < 252,000 bytes"
   ]
  },
  {
   "cell_type": "code",
   "execution_count": 23,
   "id": "72eb3e83",
   "metadata": {},
   "outputs": [
    {
     "name": "stdout",
     "output_type": "stream",
     "text": [
      "[]\n"
     ]
    }
   ],
   "source": [
    "failed_icaos = []\n",
    "\n",
    "# Get a list of all files in the directory\n",
    "file_list = os.listdir(directory)\n",
    "\n",
    "\n",
    "for file_name in file_list:\n",
    "    file_path = os.path.join(directory, file_name)\n",
    "    \n",
    "    \n",
    "    # Check if the file is smaller than 252000 bytes\n",
    "    if os.path.getsize(directory + '/' + file_name) < 252000:\n",
    "        # Make a list of all icaos that don't have populated Radarbox page (append file name without the \".html\" extension)\n",
    "        file_name_without_extension = file_name[:-5] \n",
    "        failed_icaos.append(file_name_without_extension)\n",
    "\n",
    "        try:\n",
    "            # Delete the file from directory\n",
    "            os.remove(file_path)\n",
    "            print(f\"Deleted file: {file_path}\")\n",
    "        except OSError as e:\n",
    "            print(f\"Error occurred while deleting {file_path}: {str(e)}\")\n",
    "            \n",
    "#show the list of all of the icaos that don't have a populated Radarbox page\n",
    "print(failed_icaos)"
   ]
  },
  {
   "cell_type": "markdown",
   "id": "6511bff8",
   "metadata": {},
   "source": [
    "### Scrape tail number and plane type from each planes Radarbox page"
   ]
  },
  {
   "cell_type": "code",
   "execution_count": 5,
   "id": "5dc7b53a",
   "metadata": {},
   "outputs": [],
   "source": [
    "data_list = []\n",
    "\n",
    "# Loop through each HTML file in the radarbox_htmls directory\n",
    "for filename in os.listdir(directory):\n",
    "    if filename.endswith(\".html\"):\n",
    "        file_path = os.path.join(directory, filename)\n",
    "        with open(file_path, 'r', encoding='utf-8') as file:\n",
    "            html = file.read()\n",
    "\n",
    "        soup = BeautifulSoup(html)\n",
    "\n",
    "        # Take the icao from the filename (without the \".html\" extension)\n",
    "        icao = filename.replace(\".html\", \"\")\n",
    "\n",
    "        # Extract the tail number from the HTML content\n",
    "        try:\n",
    "            tail = soup.select(\"#secondary\")[0].text\n",
    "        except IndexError:\n",
    "            tail = \"\"\n",
    "        # Extract the plane model from the HTML content\n",
    "        try:\n",
    "            plane = soup.select(\"#aircraft-info .full-width #value\")[0].text\n",
    "        except IndexError:\n",
    "            plane = \"\"\n",
    "\n",
    "        # Append the extracted data to the data_list\n",
    "        data_list.append([icao, tail, plane])\n",
    "\n",
    "# Create a DataFrame from the data_list with appropriate column names\n",
    "radarbox_details_df = pd.DataFrame(data_list, columns=[\"icao\", \"tail\", \"plane\"])"
   ]
  },
  {
   "cell_type": "code",
   "execution_count": 6,
   "id": "a5ac1281",
   "metadata": {},
   "outputs": [
    {
     "name": "stdout",
     "output_type": "stream",
     "text": [
      "<class 'pandas.core.frame.DataFrame'>\n",
      "RangeIndex: 1052 entries, 0 to 1051\n",
      "Data columns (total 3 columns):\n",
      " #   Column  Non-Null Count  Dtype \n",
      "---  ------  --------------  ----- \n",
      " 0   icao    1052 non-null   object\n",
      " 1   tail    1052 non-null   object\n",
      " 2   plane   1052 non-null   object\n",
      "dtypes: object(3)\n",
      "memory usage: 24.8+ KB\n"
     ]
    }
   ],
   "source": [
    "radarbox_details_df.info()"
   ]
  },
  {
   "cell_type": "code",
   "execution_count": 22,
   "id": "cf33da10",
   "metadata": {},
   "outputs": [],
   "source": [
    "radarbox_details_df.to_csv(\"/Users/karinashedrofsky/LEDE_2023/flights-project/csvs/radarbox_details.csv\", index=False)"
   ]
  },
  {
   "cell_type": "markdown",
   "id": "7f35f509",
   "metadata": {},
   "source": [
    "### Identify the missing data\n",
    "Some planes have populated RadarBox profiles but are still missing details on the tail number and plane type  \n",
    "There are other websites other than Radarbox that contain this info, so they can be checked manually"
   ]
  },
  {
   "cell_type": "code",
   "execution_count": 23,
   "id": "e0a2f775",
   "metadata": {},
   "outputs": [
    {
     "data": {
      "text/html": [
       "<div>\n",
       "<style scoped>\n",
       "    .dataframe tbody tr th:only-of-type {\n",
       "        vertical-align: middle;\n",
       "    }\n",
       "\n",
       "    .dataframe tbody tr th {\n",
       "        vertical-align: top;\n",
       "    }\n",
       "\n",
       "    .dataframe thead th {\n",
       "        text-align: right;\n",
       "    }\n",
       "</style>\n",
       "<table border=\"1\" class=\"dataframe\">\n",
       "  <thead>\n",
       "    <tr style=\"text-align: right;\">\n",
       "      <th></th>\n",
       "      <th>icao</th>\n",
       "      <th>tail</th>\n",
       "      <th>plane</th>\n",
       "    </tr>\n",
       "  </thead>\n",
       "  <tbody>\n",
       "    <tr>\n",
       "      <th>193</th>\n",
       "      <td>1418d8</td>\n",
       "      <td></td>\n",
       "      <td>-</td>\n",
       "    </tr>\n",
       "    <tr>\n",
       "      <th>229</th>\n",
       "      <td>14fa0a</td>\n",
       "      <td></td>\n",
       "      <td>-</td>\n",
       "    </tr>\n",
       "    <tr>\n",
       "      <th>304</th>\n",
       "      <td>466b38</td>\n",
       "      <td></td>\n",
       "      <td>-</td>\n",
       "    </tr>\n",
       "    <tr>\n",
       "      <th>312</th>\n",
       "      <td>152c2e</td>\n",
       "      <td></td>\n",
       "      <td>-</td>\n",
       "    </tr>\n",
       "    <tr>\n",
       "      <th>418</th>\n",
       "      <td>142586</td>\n",
       "      <td></td>\n",
       "      <td>-</td>\n",
       "    </tr>\n",
       "    <tr>\n",
       "      <th>436</th>\n",
       "      <td>4b850c</td>\n",
       "      <td></td>\n",
       "      <td>-</td>\n",
       "    </tr>\n",
       "    <tr>\n",
       "      <th>507</th>\n",
       "      <td>140ac5</td>\n",
       "      <td></td>\n",
       "      <td>-</td>\n",
       "    </tr>\n",
       "    <tr>\n",
       "      <th>508</th>\n",
       "      <td>1506a6</td>\n",
       "      <td></td>\n",
       "      <td>-</td>\n",
       "    </tr>\n",
       "    <tr>\n",
       "      <th>514</th>\n",
       "      <td>032091</td>\n",
       "      <td></td>\n",
       "      <td>-</td>\n",
       "    </tr>\n",
       "    <tr>\n",
       "      <th>577</th>\n",
       "      <td>1506aa</td>\n",
       "      <td></td>\n",
       "      <td>-</td>\n",
       "    </tr>\n",
       "    <tr>\n",
       "      <th>584</th>\n",
       "      <td>1533ad</td>\n",
       "      <td></td>\n",
       "      <td>-</td>\n",
       "    </tr>\n",
       "    <tr>\n",
       "      <th>673</th>\n",
       "      <td>14fa0e</td>\n",
       "      <td></td>\n",
       "      <td>-</td>\n",
       "    </tr>\n",
       "    <tr>\n",
       "      <th>677</th>\n",
       "      <td>150690</td>\n",
       "      <td></td>\n",
       "      <td>-</td>\n",
       "    </tr>\n",
       "    <tr>\n",
       "      <th>682</th>\n",
       "      <td>600be9</td>\n",
       "      <td></td>\n",
       "      <td>-</td>\n",
       "    </tr>\n",
       "    <tr>\n",
       "      <th>718</th>\n",
       "      <td>ea000f</td>\n",
       "      <td></td>\n",
       "      <td>-</td>\n",
       "    </tr>\n",
       "    <tr>\n",
       "      <th>770</th>\n",
       "      <td>15064b</td>\n",
       "      <td></td>\n",
       "      <td>-</td>\n",
       "    </tr>\n",
       "    <tr>\n",
       "      <th>775</th>\n",
       "      <td>26002b</td>\n",
       "      <td></td>\n",
       "      <td>-</td>\n",
       "    </tr>\n",
       "    <tr>\n",
       "      <th>826</th>\n",
       "      <td>1427dc</td>\n",
       "      <td></td>\n",
       "      <td>-</td>\n",
       "    </tr>\n",
       "    <tr>\n",
       "      <th>870</th>\n",
       "      <td>152c2a</td>\n",
       "      <td></td>\n",
       "      <td>-</td>\n",
       "    </tr>\n",
       "    <tr>\n",
       "      <th>941</th>\n",
       "      <td>155bdd</td>\n",
       "      <td></td>\n",
       "      <td>-</td>\n",
       "    </tr>\n",
       "    <tr>\n",
       "      <th>947</th>\n",
       "      <td>152c07</td>\n",
       "      <td></td>\n",
       "      <td>-</td>\n",
       "    </tr>\n",
       "    <tr>\n",
       "      <th>949</th>\n",
       "      <td>15069a</td>\n",
       "      <td></td>\n",
       "      <td>-</td>\n",
       "    </tr>\n",
       "  </tbody>\n",
       "</table>\n",
       "</div>"
      ],
      "text/plain": [
       "       icao tail plane\n",
       "193  1418d8          -\n",
       "229  14fa0a          -\n",
       "304  466b38          -\n",
       "312  152c2e          -\n",
       "418  142586          -\n",
       "436  4b850c          -\n",
       "507  140ac5          -\n",
       "508  1506a6          -\n",
       "514  032091          -\n",
       "577  1506aa          -\n",
       "584  1533ad          -\n",
       "673  14fa0e          -\n",
       "677  150690          -\n",
       "682  600be9          -\n",
       "718  ea000f          -\n",
       "770  15064b          -\n",
       "775  26002b          -\n",
       "826  1427dc          -\n",
       "870  152c2a          -\n",
       "941  155bdd          -\n",
       "947  152c07          -\n",
       "949  15069a          -"
      ]
     },
     "execution_count": 23,
     "metadata": {},
     "output_type": "execute_result"
    }
   ],
   "source": [
    "blank = radarbox_details_df[radarbox_details_df['tail'] == '']\n",
    "blank"
   ]
  },
  {
   "cell_type": "markdown",
   "id": "de22b8e5",
   "metadata": {},
   "source": [
    "### Read in manually checked data\n",
    "_Since there were only 22, I manually checked all ICAOs without info in Radarbox and created a separate csv_  \n",
    "The link to the data sources can be found in the csv file in the directory"
   ]
  },
  {
   "cell_type": "code",
   "execution_count": 12,
   "id": "b8e9518e",
   "metadata": {},
   "outputs": [
    {
     "name": "stdout",
     "output_type": "stream",
     "text": [
      "<class 'pandas.core.frame.DataFrame'>\n",
      "RangeIndex: 22 entries, 0 to 21\n",
      "Data columns (total 3 columns):\n",
      " #   Column  Non-Null Count  Dtype \n",
      "---  ------  --------------  ----- \n",
      " 0   icao    22 non-null     object\n",
      " 1   tail    17 non-null     object\n",
      " 2   plane   17 non-null     object\n",
      "dtypes: object(3)\n",
      "memory usage: 656.0+ bytes\n"
     ]
    }
   ],
   "source": [
    "manual_df = pd.read_csv(\"/Users/karinashedrofsky/LEDE_2023/flights-project/csvs/manual-plane-data.csv\")\n",
    "manual_df.drop('link', axis=1, inplace=True)\n",
    "manual_df.info()"
   ]
  },
  {
   "cell_type": "markdown",
   "id": "87468c81",
   "metadata": {},
   "source": [
    "#### Combine the scraped plane info with manually identified plane info"
   ]
  },
  {
   "cell_type": "code",
   "execution_count": 13,
   "id": "7b9dc49f",
   "metadata": {},
   "outputs": [],
   "source": [
    "# Create a copy of radarbox_details_df to make a new DataFrame for the updates\n",
    "updated_plane_df = radarbox_details_df.copy()\n",
    "\n",
    "# Set 'icao' as the index for both DataFrames\n",
    "updated_plane_df.set_index('icao', inplace=True)\n",
    "manual_df.set_index('icao', inplace=True)\n",
    "\n",
    "# Update the values in updated_plane_df with the values from manual_df where there's an icao match\n",
    "updated_plane_df.update(manual_df)\n",
    "\n",
    "# Reset the index to bring 'icao' back as a regular column\n",
    "updated_plane_df.reset_index(inplace=True)"
   ]
  },
  {
   "cell_type": "code",
   "execution_count": 14,
   "id": "96f480e8",
   "metadata": {},
   "outputs": [
    {
     "name": "stdout",
     "output_type": "stream",
     "text": [
      "<class 'pandas.core.frame.DataFrame'>\n",
      "RangeIndex: 1052 entries, 0 to 1051\n",
      "Data columns (total 3 columns):\n",
      " #   Column  Non-Null Count  Dtype \n",
      "---  ------  --------------  ----- \n",
      " 0   icao    1052 non-null   object\n",
      " 1   tail    1052 non-null   object\n",
      " 2   plane   1052 non-null   object\n",
      "dtypes: object(3)\n",
      "memory usage: 24.8+ KB\n"
     ]
    }
   ],
   "source": [
    "updated_plane_df.info()"
   ]
  },
  {
   "cell_type": "markdown",
   "id": "8aea8303",
   "metadata": {},
   "source": [
    "We're still left with a few icaos that couldn't be identified manually or by scraping Radarbox..."
   ]
  },
  {
   "cell_type": "code",
   "execution_count": 15,
   "id": "44acfba0",
   "metadata": {
    "scrolled": true
   },
   "outputs": [
    {
     "data": {
      "text/html": [
       "<div>\n",
       "<style scoped>\n",
       "    .dataframe tbody tr th:only-of-type {\n",
       "        vertical-align: middle;\n",
       "    }\n",
       "\n",
       "    .dataframe tbody tr th {\n",
       "        vertical-align: top;\n",
       "    }\n",
       "\n",
       "    .dataframe thead th {\n",
       "        text-align: right;\n",
       "    }\n",
       "</style>\n",
       "<table border=\"1\" class=\"dataframe\">\n",
       "  <thead>\n",
       "    <tr style=\"text-align: right;\">\n",
       "      <th></th>\n",
       "      <th>icao</th>\n",
       "      <th>tail</th>\n",
       "      <th>plane</th>\n",
       "    </tr>\n",
       "  </thead>\n",
       "  <tbody>\n",
       "    <tr>\n",
       "      <th>304</th>\n",
       "      <td>466b38</td>\n",
       "      <td></td>\n",
       "      <td>-</td>\n",
       "    </tr>\n",
       "    <tr>\n",
       "      <th>514</th>\n",
       "      <td>032091</td>\n",
       "      <td></td>\n",
       "      <td>-</td>\n",
       "    </tr>\n",
       "    <tr>\n",
       "      <th>682</th>\n",
       "      <td>600be9</td>\n",
       "      <td></td>\n",
       "      <td>-</td>\n",
       "    </tr>\n",
       "    <tr>\n",
       "      <th>718</th>\n",
       "      <td>ea000f</td>\n",
       "      <td></td>\n",
       "      <td>-</td>\n",
       "    </tr>\n",
       "    <tr>\n",
       "      <th>775</th>\n",
       "      <td>26002b</td>\n",
       "      <td></td>\n",
       "      <td>-</td>\n",
       "    </tr>\n",
       "  </tbody>\n",
       "</table>\n",
       "</div>"
      ],
      "text/plain": [
       "       icao tail plane\n",
       "304  466b38          -\n",
       "514  032091          -\n",
       "682  600be9          -\n",
       "718  ea000f          -\n",
       "775  26002b          -"
      ]
     },
     "execution_count": 15,
     "metadata": {},
     "output_type": "execute_result"
    }
   ],
   "source": [
    "updated_plane_df[updated_plane_df[\"tail\"] == '']"
   ]
  },
  {
   "cell_type": "code",
   "execution_count": 24,
   "id": "a034bdd1",
   "metadata": {},
   "outputs": [],
   "source": [
    "#save as csv\n",
    "updated_plane_df.to_csv(\"/Users/karinashedrofsky/LEDE_2023/flights-project/csvs/all_plane_info.csv\", index = False)"
   ]
  },
  {
   "cell_type": "code",
   "execution_count": null,
   "id": "76b7d190",
   "metadata": {},
   "outputs": [],
   "source": []
  }
 ],
 "metadata": {
  "kernelspec": {
   "display_name": "Python 3 (ipykernel)",
   "language": "python",
   "name": "python3"
  },
  "language_info": {
   "codemirror_mode": {
    "name": "ipython",
    "version": 3
   },
   "file_extension": ".py",
   "mimetype": "text/x-python",
   "name": "python",
   "nbconvert_exporter": "python",
   "pygments_lexer": "ipython3",
   "version": "3.10.11"
  }
 },
 "nbformat": 4,
 "nbformat_minor": 5
}
